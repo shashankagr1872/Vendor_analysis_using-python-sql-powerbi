{
 "cells": [
  {
   "cell_type": "code",
   "execution_count": null,
   "id": "45429ec0-bf6b-4d92-8966-e4521c7c93b9",
   "metadata": {},
   "outputs": [],
   "source": [
    "import pandas as pd\n",
    "import os\n",
    "from sqlalchemy import create_engine\n",
    "import logging\n",
    "import time\n",
    "\n",
    "logging.basicConfig(\n",
    "    filename=\"logs/ingestion_db.log\",\n",
    "    level=logging.DEBUG,\n",
    "    format=\"%(asctime)s-%(levelname)s-%(message)s\",\n",
    "    filemode=\"a\"\n",
    ")\n",
    "engine=create_engine('sqlite:///inventory.db')\n",
    "\n",
    "def ingest_db(df,table_name,engine):\n",
    "    df.to_sql(table_name,con=engine,if_exists='replace',index=False)\n",
    "\n",
    "def load_raw_data():\n",
    "    start=time.time()\n",
    "    for file in os.listdir('data'):\n",
    "                if '.csv' in file:\n",
    "                    df=pd.read_csv('data/'+file)\n",
    "                    logging.info(f'Ingesting {file}in db')\n",
    "                    ingest_db(df,file[:-4],engine)\n",
    "        \n",
    "\n",
    "    end=time.time()\n",
    "    total_time=(end-start)/60\n",
    "    logging.info('--------Ingestion Complete-------------') \n",
    "    logging.info(f'Total time taken:{total_time} minutes')\n",
    "\n",
    "\n",
    "if __name__ == '__main__':\n",
    "    load_raw_data()\n",
    "    \n",
    "        \n",
    "\n",
    "\n"
   ]
  },
  {
   "cell_type": "code",
   "execution_count": 3,
   "id": "c396beb3-08dd-480a-bdc0-6eaba0960834",
   "metadata": {},
   "outputs": [],
   "source": []
  },
  {
   "cell_type": "code",
   "execution_count": 7,
   "id": "9f713765-4c08-4c84-b9f0-d34729f63e5f",
   "metadata": {},
   "outputs": [],
   "source": [
    "\n"
   ]
  },
  {
   "cell_type": "code",
   "execution_count": null,
   "id": "d779da2f-38d6-4af6-9831-7028ec3fdcfb",
   "metadata": {},
   "outputs": [],
   "source": []
  }
 ],
 "metadata": {
  "kernelspec": {
   "display_name": "Python 3 (ipykernel)",
   "language": "python",
   "name": "python3"
  },
  "language_info": {
   "codemirror_mode": {
    "name": "ipython",
    "version": 3
   },
   "file_extension": ".py",
   "mimetype": "text/x-python",
   "name": "python",
   "nbconvert_exporter": "python",
   "pygments_lexer": "ipython3",
   "version": "3.12.4"
  }
 },
 "nbformat": 4,
 "nbformat_minor": 5
}
